{
 "cells": [
  {
   "cell_type": "code",
   "execution_count": 1,
   "id": "706824d2",
   "metadata": {},
   "outputs": [],
   "source": [
    "#Q1 In what modes should the PdfFileReader() and PdfFileWriter() File objects will be opened?\n",
    "#Ans: Read-binary ('rb') for PdfFileReader() and write-binary ('wb') for PdfFileWriter()"
   ]
  },
  {
   "cell_type": "code",
   "execution_count": null,
   "id": "2fbd2920",
   "metadata": {},
   "outputs": [],
   "source": [
    "#Q2 From a PdfFileReader object, how do you get a Page object for page 5?\n",
    "#Ans: Calling getPage(4) will return a Page object for page 5 since page 0 is the first page\n",
    "\n",
    "import PyPDF2 as pdf\n",
    "pdfFileObj = open(\"cardealer.pdf\",'rb')\n",
    "pdfReader = pdf.PdfFileReader(pdfFileObj)\n",
    "pageObj = pdfReader.getPage(4)\n",
    "pageObj.extractText"
   ]
  },
  {
   "cell_type": "code",
   "execution_count": null,
   "id": "ee1f8825",
   "metadata": {},
   "outputs": [],
   "source": [
    "#Q3 What PdfFileReader variable stores the number of pages in the PDF document?\n",
    "#Ans: \n",
    "import PyPDF2 as pdf\n",
    "pdfFileObj = open(\"cardealer.pdf\",'rb')\n",
    "pdfReader = pdf.PdfFileReader(pdfFileObj)\n",
    "pdfReader.numPages"
   ]
  },
  {
   "cell_type": "code",
   "execution_count": 5,
   "id": "3b4007cb",
   "metadata": {},
   "outputs": [],
   "source": [
    "#Q4 If a PdfFileReader object’s PDF is encrypted with the password swordfish, what must you do before you can obtain Page objects from it?\n",
    "#Ans: Before we obtain the page object, the pdf has to be decrypted by calling .decrypt('swordfish')"
   ]
  },
  {
   "cell_type": "code",
   "execution_count": 6,
   "id": "99324268",
   "metadata": {},
   "outputs": [],
   "source": [
    "#Q5 What methods do you use to rotate a page?\n",
    "#Ans: pageObj.rotateClockwise(180)\n",
    "\n",
    "#The rotateClockwise() and rotateCounterClockwise() methods. The degrees to rotate is passed as an integer argument"
   ]
  },
  {
   "cell_type": "code",
   "execution_count": 7,
   "id": "0e0effed",
   "metadata": {},
   "outputs": [],
   "source": [
    "#Q6 What is the difference between a Run object and a Paragraph object?\n",
    "#Ans: Paragraph Object : A document contains multiple paragraphs. A paragraph begins on a new line and contains multiple runs. The Document object contains a list of Paragraph objects for the paragraphs in the document. (A new paragraph begins whenever the user presses ENTER or RETURN while typing in a Word document.)\n",
    "# Run Objects : Runs are contiguous groups of characters within a paragraph with the same style"
   ]
  },
  {
   "cell_type": "code",
   "execution_count": null,
   "id": "d78af49c",
   "metadata": {},
   "outputs": [],
   "source": [
    "#Q7 How do you obtain a list of Paragraph objects for a Document object that’s stored in a variable named doc?\n",
    "#Ans: By Calling the docx.Document() function.!pip install python-docx\n",
    "import docx\n",
    "doc = docx.Document('abc.docx')\n",
    "doc.paragraphs\n",
    "#By using doc.paragraphs"
   ]
  },
  {
   "cell_type": "code",
   "execution_count": 8,
   "id": "f81df09d",
   "metadata": {},
   "outputs": [],
   "source": [
    "#Q8 What type of object has bold, underline, italic, strike, and outline variables?\n",
    "#Ans: A Run object has bold, underline,italic,strike and outline variables"
   ]
  },
  {
   "cell_type": "code",
   "execution_count": 9,
   "id": "febdf027",
   "metadata": {},
   "outputs": [],
   "source": [
    "#Q9 What is the difference between False, True, and None for the bold variable?\n",
    "#Ans: Runs can be further styled using text attributes. Each attribute can be set to one of three values:\n",
    "True (the attribute is always enabled, no matter what other styles are applied to the run),\n",
    "False (the attribute is always disabled),\n",
    "None (defaults to whatever the run’s style is set to)\n",
    "\n",
    "True always makes the Run object bolded and False makes it always not bolded, no matter what the style’s bold setting is. None will make the Run object just use the style’s bold setting"
   ]
  },
  {
   "cell_type": "code",
   "execution_count": 10,
   "id": "e0b4976a",
   "metadata": {},
   "outputs": [],
   "source": [
    "#Q10 How do you create a Document object for a new Word document?\n",
    "#Ans: By Calling the docx.Document() function.\n"
   ]
  },
  {
   "cell_type": "code",
   "execution_count": null,
   "id": "fe0b0095",
   "metadata": {},
   "outputs": [],
   "source": [
    "#Q11 How do you add a paragraph with the text &#39;Hello, there!&#39; to a Document object stored in a variable named doc?\n",
    "#Ans: doc.add_paragraph('Hello there!')\n",
    "import docx\n",
    "doc = docx.Document()\n",
    "\n",
    "doc.add_paragraph('Hello there!')\n",
    "doc.save('hellothere.docx')"
   ]
  },
  {
   "cell_type": "code",
   "execution_count": null,
   "id": "92c56405",
   "metadata": {},
   "outputs": [],
   "source": [
    "#Q12 What integers represent the levels of headings available in Word documents?\n",
    "#Ans: integer from 0 to 4\n",
    "# The arguments to add_heading() are a string of the heading text and an integer from 0 to 4. The integer 0 makes the heading the Title style, which is used for the top of the document. Integers 1 to 4 are for various heading levels, with 1 being the main heading and 4 the lowest subheading\n"
   ]
  }
 ],
 "metadata": {
  "kernelspec": {
   "display_name": "Python 3 (ipykernel)",
   "language": "python",
   "name": "python3"
  },
  "language_info": {
   "codemirror_mode": {
    "name": "ipython",
    "version": 3
   },
   "file_extension": ".py",
   "mimetype": "text/x-python",
   "name": "python",
   "nbconvert_exporter": "python",
   "pygments_lexer": "ipython3",
   "version": "3.9.7"
  }
 },
 "nbformat": 4,
 "nbformat_minor": 5
}
