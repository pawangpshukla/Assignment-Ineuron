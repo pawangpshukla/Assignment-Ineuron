{
 "cells": [
  {
   "cell_type": "code",
   "execution_count": 1,
   "id": "7b231acb",
   "metadata": {},
   "outputs": [],
   "source": [
    "#Q1 Create an assert statement that throws an AssertionError if the variable spam is a negative integer.\n",
    "#Ans: assert spam >= 10, 'The spam variable is less than 10.'"
   ]
  },
  {
   "cell_type": "code",
   "execution_count": 2,
   "id": "de0eff2d",
   "metadata": {},
   "outputs": [],
   "source": [
    "#Q2 Write an assert statement that triggers an AssertionError if the variables eggs and bacon contain strings that are the same as each other, even if their cases are different (that is, 'hello' and 'hello' are considered the same, and 'goodbye' and 'GOODbye' are also considered the same).\n",
    "#Ans: assert eggs.lower() != bacon.lower(), 'The eggs and bacon variables are the same!' or assert eggs.upper() != bacon.upper(), 'The eggs and bacon variables are the same!'"
   ]
  },
  {
   "cell_type": "code",
   "execution_count": 3,
   "id": "a88d75ed",
   "metadata": {},
   "outputs": [],
   "source": [
    "#Q3 Create an assert statement that throws an AssertionError every time.\n",
    "#Ans: assert False, 'This assertion always triggers.'"
   ]
  },
  {
   "cell_type": "code",
   "execution_count": 4,
   "id": "ba8f7cb5",
   "metadata": {},
   "outputs": [],
   "source": [
    "#Q4 What are the two lines that must be present in your software in order to call logging.debug()?\n",
    "#Ans: To be able to call logging.debug(), you must have these two lines at the start of your program:\n",
    "import logging\n",
    "logging.basicConfig(level=logging.DEBUG, format=' %(asctime)s - %(levelname)s - %(message)s')"
   ]
  },
  {
   "cell_type": "code",
   "execution_count": 5,
   "id": "d32a4421",
   "metadata": {},
   "outputs": [],
   "source": [
    "#Q5 What are the two lines that your program must have in order to have logging.debug() send a logging message to a file named programLog.txt?\n",
    "#Ans: To be able to send logging messages to a file named programLog.txt with logging.debug(), you must have these two lines at the start of your program:\n",
    "\n",
    "import logging\n",
    "\n",
    "logging.basicConfig(filename='programLog.txt', level=logging.DEBUG,\n",
    "\n",
    "format=' %(asctime)s - %(levelname)s - %(message)s')"
   ]
  },
  {
   "cell_type": "code",
   "execution_count": 7,
   "id": "12d80b64",
   "metadata": {},
   "outputs": [],
   "source": [
    "#Q6 What are the five levels of logging?\n",
    "#Ans: DEBUG, INFO, WARNING, ERROR, and CRITICAL"
   ]
  },
  {
   "cell_type": "code",
   "execution_count": 8,
   "id": "a0344197",
   "metadata": {},
   "outputs": [],
   "source": [
    "#Q7 What line of code would you add to your software to disable all logging messages?\n",
    "#Ans: logging.disable(logging.CRITICAL)"
   ]
  },
  {
   "cell_type": "code",
   "execution_count": 9,
   "id": "e2bb316a",
   "metadata": {},
   "outputs": [],
   "source": [
    "#Q8 Why is using logging messages better than using print() to display the same message?\n",
    "#Ans: We can disable logging messages without removing the logging function calls. We can selectively disable lower-level logging messages. We can create logging messages. Logging messages provides a timestamp."
   ]
  },
  {
   "cell_type": "code",
   "execution_count": 10,
   "id": "0b2cb3ae",
   "metadata": {},
   "outputs": [],
   "source": [
    "#Q9 What are the differences between the Step Over, Step In, and Step Out buttons in the debugger?\n",
    "#Ans: The Step button will move the debugger into a function call. The Over button will quickly execute the function call without stepping into it. The Out button will quickly execute the rest of the code until it steps out of the function it currently is in."
   ]
  },
  {
   "cell_type": "code",
   "execution_count": 11,
   "id": "31f2cd5d",
   "metadata": {},
   "outputs": [],
   "source": [
    "#Q10 After you click Continue, when will the debugger stop ?\n",
    "#Ans: After you click Go, the debugger will stop when it has reached the end of the program or a line with a breakpoint."
   ]
  },
  {
   "cell_type": "code",
   "execution_count": null,
   "id": "616b4abc",
   "metadata": {},
   "outputs": [],
   "source": [
    "#Q11 What is the concept of a breakpoint?\n",
    "#Ans: A breakpoint is a setting on a line of code that causes the debugger to pause when the program execution reaches the line."
   ]
  }
 ],
 "metadata": {
  "kernelspec": {
   "display_name": "Python 3 (ipykernel)",
   "language": "python",
   "name": "python3"
  },
  "language_info": {
   "codemirror_mode": {
    "name": "ipython",
    "version": 3
   },
   "file_extension": ".py",
   "mimetype": "text/x-python",
   "name": "python",
   "nbconvert_exporter": "python",
   "pygments_lexer": "ipython3",
   "version": "3.9.7"
  }
 },
 "nbformat": 4,
 "nbformat_minor": 5
}
