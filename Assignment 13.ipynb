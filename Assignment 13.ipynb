{
 "cells": [
  {
   "cell_type": "code",
   "execution_count": 1,
   "id": "e30dc190",
   "metadata": {},
   "outputs": [],
   "source": [
    "#Q1 What advantages do Excel spreadsheets have over CSV spreadsheets?\n",
    "#Ans: Excel is more superior when compared with the CSV file format thus, CSV consumes less amount of file size when the user is importing data; it is a much faster format compared to excel.\n"
   ]
  },
  {
   "cell_type": "code",
   "execution_count": 2,
   "id": "c0d4f17e",
   "metadata": {},
   "outputs": [],
   "source": [
    "#Q2 What do you pass to csv.reader() and csv.writer() to create reader and writer objects?\n",
    "#Ans: In csv reader we pass the object. In that object file is open and one more parameter that is 'r'.\n",
    "#eg: demo = ('people.csv', 'r')\n",
    "#reader = csv.reader(demo)\n",
    "#print(reader)\n",
    "# In csv wiruter we pass object.In that oject file is open and one more parameter that is 'w'.\n",
    "#eg:demo = ('people.csv', 'w',newline='')\n",
    "#writer = csv.writerow(demo)\n",
    "#writer.writerow('Demo Testing')"
   ]
  },
  {
   "cell_type": "code",
   "execution_count": 3,
   "id": "9cca877a",
   "metadata": {},
   "outputs": [],
   "source": [
    "#Q3 What modes do File objects for reader and writer objects need to be opened in?\n",
    "#Ans: In order to open a file for reading or writing purposes, we must use the built-in open() function."
   ]
  },
  {
   "cell_type": "code",
   "execution_count": 4,
   "id": "6eb750a3",
   "metadata": {},
   "outputs": [],
   "source": [
    "#Q4 What method takes a list argument and writes it to a CSV file?\n",
    "#Ans: writerows()"
   ]
  },
  {
   "cell_type": "code",
   "execution_count": 5,
   "id": "653efcd1",
   "metadata": {},
   "outputs": [],
   "source": [
    "#Q5 What do the keyword arguments delimiter and line terminator do?\n",
    "#Ans: The line terminator is the character that comes at the end of a row. By default, the line terminator is a newline. You can change characters to different values by using the delimiter and lineterminator keyword arguments with csv. writer() ."
   ]
  },
  {
   "cell_type": "code",
   "execution_count": 7,
   "id": "44802651",
   "metadata": {},
   "outputs": [],
   "source": [
    "#Q6 What function takes a string of JSON data and returns a Python data structure?\n",
    "#Ans: loads()"
   ]
  },
  {
   "cell_type": "code",
   "execution_count": null,
   "id": "15d206b7",
   "metadata": {},
   "outputs": [],
   "source": [
    "#Q7 What function takes a Python data structure and returns a string of JSON data?\n",
    "#Ans: Loads()"
   ]
  }
 ],
 "metadata": {
  "kernelspec": {
   "display_name": "Python 3 (ipykernel)",
   "language": "python",
   "name": "python3"
  },
  "language_info": {
   "codemirror_mode": {
    "name": "ipython",
    "version": 3
   },
   "file_extension": ".py",
   "mimetype": "text/x-python",
   "name": "python",
   "nbconvert_exporter": "python",
   "pygments_lexer": "ipython3",
   "version": "3.9.7"
  }
 },
 "nbformat": 4,
 "nbformat_minor": 5
}
