{
 "cells": [
  {
   "cell_type": "code",
   "execution_count": null,
   "id": "9d3ed991",
   "metadata": {},
   "outputs": [],
   "source": [
    "#Q1. What is the name of the feature responsible for generating Regex objects?\n",
    "#Ans: The re.compile() function returns Regex objects."
   ]
  },
  {
   "cell_type": "code",
   "execution_count": null,
   "id": "430c8f2d",
   "metadata": {},
   "outputs": [],
   "source": [
    "#Q2. Why do raw strings often appear in Regex objects?\n",
    "#Ans: Raw strings are used so that backslashes do not have to be escaped."
   ]
  },
  {
   "cell_type": "code",
   "execution_count": null,
   "id": "1aa992db",
   "metadata": {},
   "outputs": [],
   "source": [
    "#Q3. What is the return value of the search() method?\n",
    "#Ans : The search() method returns Match objects."
   ]
  },
  {
   "cell_type": "code",
   "execution_count": null,
   "id": "6acdadcf",
   "metadata": {},
   "outputs": [],
   "source": [
    "#Q4. From a Match item, how do you get the actual strings that match the pattern?\n",
    "# Ans: The group() method returns strings of the matched text."
   ]
  },
  {
   "cell_type": "code",
   "execution_count": null,
   "id": "89ee0e6c",
   "metadata": {},
   "outputs": [],
   "source": [
    "#Q5. In the regex which created from the r'(\\d\\d\\d)-(\\d\\d\\d-\\d\\d\\d\\d)', what does group zero cover? Group 2? Group 1?\n",
    "#Ans: Group 0 is the entire match, group 1 covers the first set of parentheses, and group 2 covers the second set of \n",
    "# parentheses."
   ]
  },
  {
   "cell_type": "code",
   "execution_count": null,
   "id": "ac3a3fc4",
   "metadata": {},
   "outputs": [],
   "source": [
    "#Q6. In standard expression syntax, parentheses and intervals have distinct meanings. How can you tell a regex that you want it #to fit real parentheses and periods? \n",
    "#Ans: Periods and parentheses can be escaped with a backslash: \\., \\(, and \\)."
   ]
  },
  {
   "cell_type": "code",
   "execution_count": null,
   "id": "2efc95da",
   "metadata": {},
   "outputs": [],
   "source": [
    "#Q7. The findall() method returns a string list or a list of string tuples. What causes it to return one of the two options?\n",
    "#Ans: If the regex has no groups, a list of strings is returned. If the regex has groups, a list of tuples of strings is \n",
    "#    returned."
   ]
  },
  {
   "cell_type": "code",
   "execution_count": null,
   "id": "79dc5713",
   "metadata": {},
   "outputs": [],
   "source": [
    "#Q8. In standard expressions, what does the | character mean?\n",
    "#Ans: The | character signifies matching \"either, or\" between two groups."
   ]
  },
  {
   "cell_type": "code",
   "execution_count": null,
   "id": "10bb2ce8",
   "metadata": {},
   "outputs": [],
   "source": [
    "#Q9. In regular expressions, what does the character stand for?\n",
    "#Ans: Each character in a regular expression (that is, each character in the string describing its pattern) is either a \n",
    "# metacharacter, having a special meaning, or a regular character that has a literal meaning."
   ]
  },
  {
   "cell_type": "code",
   "execution_count": null,
   "id": "aefe58ce",
   "metadata": {},
   "outputs": [],
   "source": [
    "#Q10.In regular expressions, what is the difference between the + and * characters? \n",
    "#Ans: The + matches one or more. The * matches zero or more."
   ]
  },
  {
   "cell_type": "code",
   "execution_count": null,
   "id": "80ec7200",
   "metadata": {},
   "outputs": [],
   "source": [
    "#Q11. What is the difference between {4} and {4,5} in regular expression?\n",
    "#Ans: The {4} matches exactly four instances of the preceding group. The {4,5} matches between four and five instances."
   ]
  },
  {
   "cell_type": "code",
   "execution_count": null,
   "id": "cacc4a4a",
   "metadata": {},
   "outputs": [],
   "source": [
    "#Q12. What do you mean by the \\d, \\w, and \\s shorthand character classes signify in regularexpressions?\n",
    "#Ans: The \\d, \\w, and \\s shorthand character classes match a single digit, word, or space character, respectively."
   ]
  },
  {
   "cell_type": "code",
   "execution_count": null,
   "id": "cfdf9dd4",
   "metadata": {},
   "outputs": [],
   "source": [
    "#Q13. What do means by \\D, \\W, and \\S shorthand character classes signify in regular expressions?\n",
    "#Ans: The \\D, \\W, and \\S shorthand character classes match a single character that is not a digit, word, or space character, \n",
    "# respectively."
   ]
  },
  {
   "cell_type": "code",
   "execution_count": 4,
   "id": "9d2941ca",
   "metadata": {},
   "outputs": [],
   "source": [
    "# Q14. What is the difference between .*? and .*?\n",
    "# Ans: It is the difference between greedy and non-greedy quantifiers.\n",
    ".*? is non greedy and .* is greedy "
   ]
  },
  {
   "cell_type": "code",
   "execution_count": null,
   "id": "4213be34",
   "metadata": {},
   "outputs": [],
   "source": [
    "#Q15. What is the syntax for matching both numbers and lowercase letters with a character class?\n",
    "#Ans: Either [0-9a-z] or [a-z0-9]"
   ]
  },
  {
   "cell_type": "code",
   "execution_count": null,
   "id": "d1580e8a",
   "metadata": {},
   "outputs": [],
   "source": [
    "#Q16. What is the procedure for making a normal expression in regax case insensitive?\n",
    "#Ans: Passing re.I or re.IGNORECASE as the second argument to re.compile() will make the matching case insensitive."
   ]
  },
  {
   "cell_type": "code",
   "execution_count": null,
   "id": "74bf4a50",
   "metadata": {},
   "outputs": [],
   "source": [
    "#Q17. What does the . character normally match? What does it match if re.DOTALL is passed as 2nd argument in re.compile()?\n",
    "#Ans: The . character normally matches any character except the newline character. If re.DOTALL is passed as the second argument \n",
    "    to re.compile(), then the dot will also match newline characters."
   ]
  },
  {
   "cell_type": "code",
   "execution_count": null,
   "id": "1cf65f73",
   "metadata": {},
   "outputs": [],
   "source": [
    "#Q18. If numReg = re.compile(r'\\d+'), what will numRegex.sub('X','11 drummers, 10 pipers, five rings, 4 hen') return?\n",
    "#Ans: 'X drummers, X pipers, five rings, X hens'"
   ]
  },
  {
   "cell_type": "code",
   "execution_count": null,
   "id": "7481802b",
   "metadata": {},
   "outputs": [],
   "source": [
    "#Q19. What does passing re.VERBOSE as the 2nd argument to re.compile() allow to do?\n",
    "#Ans: The re.VERBOSE argument allows you to add whitespace and comments to the string passed to re.compile()."
   ]
  },
  {
   "cell_type": "markdown",
   "id": "fc18af67",
   "metadata": {},
   "source": [
    "#Q20. How would you write a regex that match a number with comma for every three digits? It must match the given following:\n",
    "# re.compile(r'^\\d{1,3}(,\\d{3})*$')"
   ]
  },
  {
   "cell_type": "code",
   "execution_count": 17,
   "id": "ffd552b2",
   "metadata": {},
   "outputs": [],
   "source": [
    "#Q21. How would you write a regex that matches the full name of someone whose last name is Watanabe? You can assume that the \n",
    "#first name that comes before it will always be one word that begins with a capital letter. The regex must match the following:\n",
    "'Satoshi Nakamoto'\n",
    "\n",
    "'Alice Nakamoto'\n",
    "\n",
    "'Robocop Nakamoto'\n",
    "\n",
    "'satoshi Nakamoto' \n",
    "\n",
    "'Mr. Nakamoto' \n",
    "\n",
    "'Nakamoto' \n",
    "\n",
    "'Satoshi nakamoto' \n",
    "\n",
    "#Ans: \n",
    "re.compile(r'[A-Z][a-z]*\\sNakamoto')\n"
   ]
  },
  {
   "cell_type": "code",
   "execution_count": null,
   "id": "27b1bbce",
   "metadata": {},
   "outputs": [],
   "source": [
    "#Q22. How would you write a regex that matches a sentence where the first word is either Alice, Bob, or Carol; the second word is \n",
    "either eats, pets, or throws; the third word is apples, cats, or baseballs; and the sentence ends with a period? \n",
    "This regex should be case-insensitive. It must match the following:\n",
    "'Alice eats apples.'\n",
    "\n",
    "'Bob pets cats.'\n",
    "\n",
    "'Carol throws baseballs.'\n",
    "\n",
    "'Alice throws Apples.'\n",
    "\n",
    "'BOB EATS CATS.'\n",
    "\n",
    "but not the following:\n",
    "\n",
    "'Robocop eats apples.'\n",
    "\n",
    "'ALICE THROWS FOOTBALLS.'\n",
    "\n",
    "'Carol eats 7 cats.'\n",
    "Ans: re.compile(r'(Alice|Bob|Carol)\\s(eats|pets|throws)\\s(apples|cats|baseballs)\\.', re.IGNORECASE)"
   ]
  }
 ],
 "metadata": {
  "kernelspec": {
   "display_name": "Python 3 (ipykernel)",
   "language": "python",
   "name": "python3"
  },
  "language_info": {
   "codemirror_mode": {
    "name": "ipython",
    "version": 3
   },
   "file_extension": ".py",
   "mimetype": "text/x-python",
   "name": "python",
   "nbconvert_exporter": "python",
   "pygments_lexer": "ipython3",
   "version": "3.9.7"
  }
 },
 "nbformat": 4,
 "nbformat_minor": 5
}
