{
 "cells": [
  {
   "cell_type": "code",
   "execution_count": null,
   "id": "d96f2c33",
   "metadata": {},
   "outputs": [],
   "source": [
    "#Q1 Why are functions advantageous to have in your programs?\n",
    "Ans:Functions reduce the need for duplicate code. This makes programs shorter, easier to read, and easier to update."
   ]
  },
  {
   "cell_type": "code",
   "execution_count": null,
   "id": "cbcc2a5c",
   "metadata": {},
   "outputs": [],
   "source": [
    "#Q2 When does the code in a function run: when it's specified or when it's called?\n",
    "Ans: The code in a function executes when the function is called, not when the function is defined."
   ]
  },
  {
   "cell_type": "code",
   "execution_count": null,
   "id": "9b188f91",
   "metadata": {},
   "outputs": [],
   "source": [
    "#Q3 What statement creates a function?\n",
    "Ans: The def statement defines (that is, creates) a function."
   ]
  },
  {
   "cell_type": "code",
   "execution_count": null,
   "id": "f57ba9e6",
   "metadata": {},
   "outputs": [],
   "source": [
    "#Q4 What is the difference between a function and a function call?\n",
    "Ans: A function consists of the def statement and the code in its def clause.\n",
    "A function call is what moves the program execution into the function, and the function call evaluates to the function's return value."
   ]
  },
  {
   "cell_type": "code",
   "execution_count": null,
   "id": "08849e01",
   "metadata": {},
   "outputs": [],
   "source": [
    "#Q5 How many global scopes are there in a Python program? How many local scopes?\n",
    "Ans: There is one global scope, and a local scope is created whenever a function is called."
   ]
  },
  {
   "cell_type": "code",
   "execution_count": null,
   "id": "627ab1f5",
   "metadata": {},
   "outputs": [],
   "source": [
    "#Q6 What happens to variables in a local scope when the function call returns?\n",
    "Ans: When a function returns, the local scope is destroyed, and all the variables in it are forgotten."
   ]
  },
  {
   "cell_type": "code",
   "execution_count": null,
   "id": "d71d32b2",
   "metadata": {},
   "outputs": [],
   "source": [
    "#Q7 What is the concept of a return value? Is it possible to have a return value in an expression?\n",
    "Ans: A return value is the value that a function call evaluates to. Like any value, a return value can be used as part of an expression."
   ]
  },
  {
   "cell_type": "code",
   "execution_count": null,
   "id": "8a273665",
   "metadata": {},
   "outputs": [],
   "source": [
    "#Q8 If a function does not have a return statement, what is the return value of a call to that function?\n",
    "Ans: If there is no return statement for a function, its return value is None."
   ]
  },
  {
   "cell_type": "code",
   "execution_count": null,
   "id": "8ebb1683",
   "metadata": {},
   "outputs": [],
   "source": [
    "#Q9 How do you make a function variable refer to the global variable?\n",
    "Ans: A global statement will force a variable in a function to refer to the global variable."
   ]
  },
  {
   "cell_type": "code",
   "execution_count": null,
   "id": "6f9abba4",
   "metadata": {},
   "outputs": [],
   "source": [
    "#Q10 What is the data type of None?\n",
    "Ans: The data type of None is NoneType."
   ]
  },
  {
   "cell_type": "code",
   "execution_count": null,
   "id": "32e7bd61",
   "metadata": {},
   "outputs": [],
   "source": [
    "#Q11 What does the sentence import areallyourpetsnamederic do?\n",
    "ANs:That import statement imports a module named areallyourpetsnamederic. (This isn't a real Python module, by the way.)"
   ]
  },
  {
   "cell_type": "code",
   "execution_count": null,
   "id": "183556ff",
   "metadata": {},
   "outputs": [],
   "source": [
    "#Q12 If you had a bacon() feature in a spam module, what would you call it after importing spam?\n",
    "Ans: This function can be called with spam.bacon()."
   ]
  },
  {
   "cell_type": "code",
   "execution_count": null,
   "id": "7bce3965",
   "metadata": {},
   "outputs": [],
   "source": [
    "#Q13 How can you prevent a program from crashing when it gets an error?\n",
    "Ans: Place the line of code that might cause an error in a try clause."
   ]
  },
  {
   "cell_type": "code",
   "execution_count": null,
   "id": "57be1bb8",
   "metadata": {},
   "outputs": [],
   "source": [
    "#Q14 What is the purpose of the try clause? What is the purpose of the except clause?\n",
    "Ans: The code that could potentially cause an error goes in the try clause.\n",
    "The code that executes if an error happens goes in the except clause."
   ]
  }
 ],
 "metadata": {
  "kernelspec": {
   "display_name": "Python 3 (ipykernel)",
   "language": "python",
   "name": "python3"
  },
  "language_info": {
   "codemirror_mode": {
    "name": "ipython",
    "version": 3
   },
   "file_extension": ".py",
   "mimetype": "text/x-python",
   "name": "python",
   "nbconvert_exporter": "python",
   "pygments_lexer": "ipython3",
   "version": "3.9.7"
  }
 },
 "nbformat": 4,
 "nbformat_minor": 5
}
