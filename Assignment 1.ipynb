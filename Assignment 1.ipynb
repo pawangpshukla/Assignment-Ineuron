{
 "cells": [
  {
   "cell_type": "code",
   "execution_count": null,
   "id": "e12fbbd7",
   "metadata": {},
   "outputs": [],
   "source": [
    "#Q1 In the below elements which of them are values or an expression? eg:- values can binteger or string and expressions will be mathematical operators.\n",
    "* It is use for multiplication.It is a mathematical operator.\n",
    "'hello' It is in single quotes.It is a string.\n",
    "-87.8 Is is a float\n",
    "- It is minus.It is mathematical opertor.\n",
    "/ It is divide symbol.It is mathematical operator.\n",
    "+ It is plus symbol.It is a mathaematical operator.\n",
    "6 It is number.It is interger."
   ]
  },
  {
   "cell_type": "code",
   "execution_count": null,
   "id": "54bf9d57",
   "metadata": {},
   "outputs": [],
   "source": [
    "#Q2What is the difference between string and variable?\n",
    "A Variable is a store of information, and a String is a type of information you would store in a Variable. A String is usually words, enclosed with \"\"\n",
    "Variable is use to store data. String is a data type.It is denoted by single quotes or double quotes.\n",
    "Eg:-\n",
    "String x =\"Welcome to Ineuron\"\n",
    "X is the Variable, and we declared it as a String, use the single = to assign the text to it."
   ]
  },
  {
   "cell_type": "code",
   "execution_count": null,
   "id": "b7b3c131",
   "metadata": {},
   "outputs": [],
   "source": [
    "#Q3 Describe three different data types.\n",
    "There are multiple data types in python.\n",
    "1.Integer: This value is represented by int class. It contains positive or negative whole numbers without fraction or decimal.\n",
    "2.String : This value is represented by str class.It conatin collection of character and denoted by single or double quotes.\n",
    "3.Boolean: This value is represented by bool class.It conatin only two values that is True or False."
   ]
  },
  {
   "cell_type": "code",
   "execution_count": null,
   "id": "ce4674a5",
   "metadata": {},
   "outputs": [],
   "source": [
    "#Q4 What is an expression made up of? What do all expressions do? \n",
    "An expression is a combination of values, variables, operators, and calls to functions. Expressions need to be evaluated. \n",
    "If you ask Python to print an expression, the interpreter evaluates the expression and displays the result.\n",
    "eg a=5*5\n",
    "print(a)"
   ]
  },
  {
   "cell_type": "code",
   "execution_count": null,
   "id": "259924c1",
   "metadata": {},
   "outputs": [],
   "source": [
    "#Q5 This assignment statements, like spam = 10. What is the difference between an expression and a statement?\n",
    "Expression is made up of values, containers, and mathematical operators (operands) and the statement is just like a command \n",
    "that a python interpreter executes like print.\n"
   ]
  },
  {
   "cell_type": "code",
   "execution_count": 7,
   "id": "ebfb0666",
   "metadata": {},
   "outputs": [],
   "source": [
    "#Q6 After running the following code, what does the variable bacon contain?\n",
    "bacon = 22"
   ]
  },
  {
   "cell_type": "code",
   "execution_count": 8,
   "id": "e316eb4a",
   "metadata": {},
   "outputs": [
    {
     "data": {
      "text/plain": [
       "23"
      ]
     },
     "execution_count": 8,
     "metadata": {},
     "output_type": "execute_result"
    }
   ],
   "source": [
    "bacon +1"
   ]
  },
  {
   "cell_type": "code",
   "execution_count": 9,
   "id": "f80fe48c",
   "metadata": {},
   "outputs": [
    {
     "data": {
      "text/plain": [
       "'spamspamspam'"
      ]
     },
     "execution_count": 9,
     "metadata": {},
     "output_type": "execute_result"
    }
   ],
   "source": [
    "#Q7 What should the values of the following two terms be?\n",
    "'spam'+'spamspam'"
   ]
  },
  {
   "cell_type": "code",
   "execution_count": 10,
   "id": "8ee3a3df",
   "metadata": {},
   "outputs": [
    {
     "data": {
      "text/plain": [
       "'spamspamspam'"
      ]
     },
     "execution_count": 10,
     "metadata": {},
     "output_type": "execute_result"
    }
   ],
   "source": [
    "'spam'*3"
   ]
  },
  {
   "cell_type": "code",
   "execution_count": null,
   "id": "b485b667",
   "metadata": {},
   "outputs": [],
   "source": [
    "#Q8 Why is eggs a valid variable name while 100 is invalid?\n",
    "we can't give variable name as a integer and 100 is a integer value so it show us an error.Where egg is is string or alphabet so it is possible.\n",
    "If we want to give integer value to variable so it should begin with string like egg100."
   ]
  },
  {
   "cell_type": "code",
   "execution_count": null,
   "id": "e16460cd",
   "metadata": {},
   "outputs": [],
   "source": [
    "#Q9 What three functions can be used to get the integer, floating-point number, or string version of a value?\n",
    "For Strong str(), For Integer int(), For Float float()"
   ]
  },
  {
   "cell_type": "code",
   "execution_count": null,
   "id": "1a80c4df",
   "metadata": {},
   "outputs": [],
   "source": [
    "#Q10 Why does this expression cause an error? How can you fix it?\n",
    "'I have eaten'+ 99 + 'burritos'\n",
    "Because we are trying to concatinate two different data types it is not possible to concatinate string with integer value.\n",
    "We can do typecasting "
   ]
  }
 ],
 "metadata": {
  "kernelspec": {
   "display_name": "Python 3 (ipykernel)",
   "language": "python",
   "name": "python3"
  },
  "language_info": {
   "codemirror_mode": {
    "name": "ipython",
    "version": 3
   },
   "file_extension": ".py",
   "mimetype": "text/x-python",
   "name": "python",
   "nbconvert_exporter": "python",
   "pygments_lexer": "ipython3",
   "version": "3.9.7"
  }
 },
 "nbformat": 4,
 "nbformat_minor": 5
}
