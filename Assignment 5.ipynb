{
 "cells": [
  {
   "cell_type": "code",
   "execution_count": null,
   "id": "90929d76",
   "metadata": {},
   "outputs": [],
   "source": [
    "#Q1 What does an empty dictionary&#39;s code look like?\n",
    "Ans: Two curly brackets: {}"
   ]
  },
  {
   "cell_type": "code",
   "execution_count": null,
   "id": "ef5bf96d",
   "metadata": {},
   "outputs": [],
   "source": [
    "#Q2 What is the value of a dictionary value with the key 'foo' and the value 42?\n",
    "Ans: {'foo': 42}"
   ]
  },
  {
   "cell_type": "code",
   "execution_count": null,
   "id": "b89e9ada",
   "metadata": {},
   "outputs": [],
   "source": [
    "#Q3 What is the most significant distinction between a dictionary and a list?\n",
    "Ans:The items stored in a dictionary are unordered, while the items in a list are ordered."
   ]
  },
  {
   "cell_type": "code",
   "execution_count": null,
   "id": "02f40d54",
   "metadata": {},
   "outputs": [],
   "source": [
    "#Q4 What happens if you try to access spam[&#39;foo&#39;] if spam is {'bar': 100}?\n",
    "Ans: We get Key error "
   ]
  },
  {
   "cell_type": "code",
   "execution_count": null,
   "id": "1a8c8bd5",
   "metadata": {},
   "outputs": [],
   "source": [
    "#Q5 If a dictionary is stored in spam, what is the difference between the expressions 'cat' in spam and\n",
    "'cat' in spam.keys()?\n",
    "Ans: There is no difference. The in operator checks whether a value exists as a key in the dictionary."
   ]
  },
  {
   "cell_type": "code",
   "execution_count": null,
   "id": "a5dad44f",
   "metadata": {},
   "outputs": [],
   "source": [
    "#Q6 If a dictionary is stored in spam, what is the difference between the expressions 'cat' in spam and\n",
    "'cat' in spam.values()?\n",
    "Ans: cat' in spam checks whether there is a 'cat' key in the dictionary, while 'cat' in spam.values() checks whether there is a \n",
    "    value 'cat' for one of the keys in spam."
   ]
  },
  {
   "cell_type": "code",
   "execution_count": null,
   "id": "c0171822",
   "metadata": {},
   "outputs": [],
   "source": [
    "#Q7 What is a shortcut for the following code?\n",
    "if 'color' not in spam:\n",
    "spam['color'] = 'black'\n",
    "Ans: spam.setdefault('color', 'black')"
   ]
  },
  {
   "cell_type": "code",
   "execution_count": null,
   "id": "b2894a1e",
   "metadata": {},
   "outputs": [],
   "source": [
    "#Q8 How do you \"pretty print\" dictionary values using which module and function?\n",
    "Ans: pprint.pprint()"
   ]
  }
 ],
 "metadata": {
  "kernelspec": {
   "display_name": "Python 3 (ipykernel)",
   "language": "python",
   "name": "python3"
  },
  "language_info": {
   "codemirror_mode": {
    "name": "ipython",
    "version": 3
   },
   "file_extension": ".py",
   "mimetype": "text/x-python",
   "name": "python",
   "nbconvert_exporter": "python",
   "pygments_lexer": "ipython3",
   "version": "3.9.7"
  }
 },
 "nbformat": 4,
 "nbformat_minor": 5
}
