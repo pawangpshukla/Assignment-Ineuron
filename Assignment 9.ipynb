{
 "cells": [
  {
   "cell_type": "code",
   "execution_count": 1,
   "id": "7e349589",
   "metadata": {},
   "outputs": [],
   "source": [
    "#Q1 To what does a relative path refer?\n",
    "#Ans: A location that is relative to a current directory. Relative paths make use of two special symbols, a dot (.) and a double-dot (..), which translate into the current directory and the parent directory. Double dots are used for moving up in the hierarchy. "
   ]
  },
  {
   "cell_type": "code",
   "execution_count": 2,
   "id": "b4a2f437",
   "metadata": {},
   "outputs": [],
   "source": [
    "#Q2 What does an absolute path start with your operating system?\n",
    "#Ans: An absolute path is a path that contains the entire path to the file or directory that you need to access. This path will begin at the home directory of your computer and will end with the file or directory that you wish to access. "
   ]
  },
  {
   "cell_type": "code",
   "execution_count": 3,
   "id": "108d5921",
   "metadata": {},
   "outputs": [],
   "source": [
    "#Q3 What do the functions os.getcwd() and os.chdir() do?\n",
    "#Ans: getcwd() : CWD stands for Current Working Directory. This function allows you to see what your current working directory is.\n",
    "# os.chdir() method in Python used to change the current working directory to specified path. It takes only a single argument as new directory path."
   ]
  },
  {
   "cell_type": "code",
   "execution_count": 4,
   "id": "b1838684",
   "metadata": {},
   "outputs": [],
   "source": [
    "#Q4 What are the . and .. folders?\n",
    "#Ans: \".\" is the current directory,\"..\" is the parent directory.\n"
   ]
  },
  {
   "cell_type": "code",
   "execution_count": 5,
   "id": "e2923d34",
   "metadata": {},
   "outputs": [],
   "source": [
    "#Q5 In C:\\bacon\\eggs\\spam.txt, which part is the dir name, and which part is the base name?\n",
    "#Ans: C:\\bacon\\eggs is the dir name, while spam.txt is the base name."
   ]
  },
  {
   "cell_type": "code",
   "execution_count": 6,
   "id": "0951daec",
   "metadata": {},
   "outputs": [],
   "source": [
    "#Q6 What are the three “mode” arguments that can be passed to the open() function?\n",
    "#Ans: The string 'r' for read mode, 'w' for write mode, and 'a' for append mode"
   ]
  },
  {
   "cell_type": "code",
   "execution_count": 7,
   "id": "d466187b",
   "metadata": {},
   "outputs": [],
   "source": [
    "#Q7 What happens if an existing file is opened in write mode?\n",
    "#Ans: An existing file opened in write mode is erased and completely overwritten."
   ]
  },
  {
   "cell_type": "code",
   "execution_count": 8,
   "id": "0392c7a5",
   "metadata": {},
   "outputs": [],
   "source": [
    "#Q8 How do you tell the difference between read() and readlines()?\n",
    "#Ans: The read() method returns the file's entire contents as a single string value. The readlines() method returns a list of strings, where each string is a line from the file's contents."
   ]
  },
  {
   "cell_type": "code",
   "execution_count": null,
   "id": "90f9a533",
   "metadata": {},
   "outputs": [],
   "source": [
    "#Q9 What data structure does a shelf value resemble?\n",
    "#Ans: A shelf value resembles a dictionary value; it has keys and values, along with keys() and values() methods that work similarly to the dictionary methods of the same names."
   ]
  }
 ],
 "metadata": {
  "kernelspec": {
   "display_name": "Python 3 (ipykernel)",
   "language": "python",
   "name": "python3"
  },
  "language_info": {
   "codemirror_mode": {
    "name": "ipython",
    "version": 3
   },
   "file_extension": ".py",
   "mimetype": "text/x-python",
   "name": "python",
   "nbconvert_exporter": "python",
   "pygments_lexer": "ipython3",
   "version": "3.9.7"
  }
 },
 "nbformat": 4,
 "nbformat_minor": 5
}
