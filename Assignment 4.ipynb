{
 "cells": [
  {
   "cell_type": "code",
   "execution_count": null,
   "id": "393248f8",
   "metadata": {},
   "outputs": [],
   "source": [
    "#Q1 What exactly is []?\n",
    "Ans:The empty list value, which is a list value that contains no items. This is similar to how '' is the empty string value.\n"
   ]
  },
  {
   "cell_type": "code",
   "execution_count": 2,
   "id": "835760cc",
   "metadata": {},
   "outputs": [
    {
     "name": "stdout",
     "output_type": "stream",
     "text": [
      "[2, 4, 'hello', 8, 10]\n"
     ]
    }
   ],
   "source": [
    "#Q2 In a list of values stored in a variable called spam, how would you assign the value 'hello' as the third value?\n",
    "# (Assume [2, 4, 6, 8, 10] are in spam.)\n",
    "spam = [2,4,6,8,10]\n",
    "spam[2] = 'hello'\n",
    "print(spam)\n",
    "#(Notice that the third value in a list is at index 2 because the first index is 0.)"
   ]
  },
  {
   "cell_type": "code",
   "execution_count": 3,
   "id": "f3f8ca32",
   "metadata": {},
   "outputs": [
    {
     "data": {
      "text/plain": [
       "'d'"
      ]
     },
     "execution_count": 3,
     "metadata": {},
     "output_type": "execute_result"
    }
   ],
   "source": [
    "# Let's pretend the spam includes the list ['a','b','c','d'] for the next three queries.\n",
    "#Q3 What is the value of spam[int(int('3' * 2) / 11)]?\n",
    "spam = ['a','b','c','d']\n",
    "spam[int(int('3' * 2) / 11)]"
   ]
  },
  {
   "cell_type": "code",
   "execution_count": 4,
   "id": "654b95bb",
   "metadata": {},
   "outputs": [
    {
     "data": {
      "text/plain": [
       "'d'"
      ]
     },
     "execution_count": 4,
     "metadata": {},
     "output_type": "execute_result"
    }
   ],
   "source": [
    "#Q4 What is the value of spam[-1]?\n",
    "spam[-1]"
   ]
  },
  {
   "cell_type": "code",
   "execution_count": 5,
   "id": "6b6a9e0b",
   "metadata": {},
   "outputs": [
    {
     "data": {
      "text/plain": [
       "['a', 'b']"
      ]
     },
     "execution_count": 5,
     "metadata": {},
     "output_type": "execute_result"
    }
   ],
   "source": [
    "#Q5 What is the value of spam[:2]?\n",
    "spam[:2]"
   ]
  },
  {
   "cell_type": "code",
   "execution_count": 6,
   "id": "c5c31c18",
   "metadata": {},
   "outputs": [],
   "source": [
    "# Let's pretend bacon has the list [3.14, 'cat', 11,'cat', True] for the next three questions."
   ]
  },
  {
   "cell_type": "code",
   "execution_count": 7,
   "id": "c2c097c6",
   "metadata": {},
   "outputs": [
    {
     "data": {
      "text/plain": [
       "1"
      ]
     },
     "execution_count": 7,
     "metadata": {},
     "output_type": "execute_result"
    }
   ],
   "source": [
    "#Q6 What is the value of bacon.index('cat')?\n",
    "bacon = [3.14, 'cat', 11,'cat', True]\n",
    "bacon.index('cat')"
   ]
  },
  {
   "cell_type": "code",
   "execution_count": 16,
   "id": "aac154c9",
   "metadata": {},
   "outputs": [
    {
     "name": "stdout",
     "output_type": "stream",
     "text": [
      "[3.14, 'cat', 11, 'cat', True, 99]\n"
     ]
    }
   ],
   "source": [
    "#Q7 How does bacon.append(99) change the look of the list value in bacon?\n",
    "bacon.append(99)\n",
    "print(bacon)"
   ]
  },
  {
   "cell_type": "code",
   "execution_count": 17,
   "id": "45e75304",
   "metadata": {},
   "outputs": [
    {
     "name": "stdout",
     "output_type": "stream",
     "text": [
      "[3.14, 11, 'cat', True, 99]\n"
     ]
    }
   ],
   "source": [
    "#Q8 How does bacon.remove('cat') change the look of the list in bacon?\n",
    "bacon.remove('cat')\n",
    "print(bacon)"
   ]
  },
  {
   "cell_type": "code",
   "execution_count": 19,
   "id": "9f1263ec",
   "metadata": {},
   "outputs": [],
   "source": [
    "#Q9 What are the list concatenation and list replication operators?\n",
    "Ans: The operator for list concatenation is +, while the operator for replication is *. "
   ]
  },
  {
   "cell_type": "code",
   "execution_count": null,
   "id": "0a9f1c74",
   "metadata": {},
   "outputs": [],
   "source": [
    "#Q10 What is difference between the list methods append() and insert()?\n",
    "Ans: While append() will add values only to the end of a list, insert() can add them anywhere in the list."
   ]
  },
  {
   "cell_type": "code",
   "execution_count": null,
   "id": "cab5904e",
   "metadata": {},
   "outputs": [],
   "source": [
    "#Q11 What are the two methods for removing items from a list?\n",
    "Ans: The del statement and the remove() list method are two ways to remove values from a list."
   ]
  },
  {
   "cell_type": "code",
   "execution_count": null,
   "id": "8d2037df",
   "metadata": {},
   "outputs": [],
   "source": [
    "#Q12 Describe how list values and string values are identical.\n",
    "Ans: Both lists and strings can be passed to len(), have indexes and slices, be used in for loops, be concatenated or replicated,\n",
    "    and be used with the in and not in operators."
   ]
  },
  {
   "cell_type": "code",
   "execution_count": null,
   "id": "e525506e",
   "metadata": {},
   "outputs": [],
   "source": [
    "#Q13 What's the difference between tuples and lists?\n",
    "Ans: Lists are mutable; they can have values added, removed, or changed. Tuples are immutable; they cannot be changed at all.\n",
    "    Also, tuples are written using parentheses, ( and ), while lists use the square brackets, [ and ]."
   ]
  },
  {
   "cell_type": "code",
   "execution_count": null,
   "id": "d4f74822",
   "metadata": {},
   "outputs": [],
   "source": [
    "#Q14 How do you type a tuple value that only contains the integer 42?\n",
    "Ans:(42,) "
   ]
  },
  {
   "cell_type": "code",
   "execution_count": null,
   "id": "7a8874a9",
   "metadata": {},
   "outputs": [],
   "source": [
    "#15 How do you get a list value's tuple form? How do you get a tuple value's list form?\n",
    "Ans: The tuple() and list() functions, respectively"
   ]
  },
  {
   "cell_type": "code",
   "execution_count": null,
   "id": "aaa40b70",
   "metadata": {},
   "outputs": [],
   "source": [
    "#Q16 Variables that \"contain\" list values are not necessarily lists themselves. Instead, what do they contain?\n",
    "Ans: They contain references to list values."
   ]
  },
  {
   "cell_type": "code",
   "execution_count": null,
   "id": "ced57db3",
   "metadata": {},
   "outputs": [],
   "source": [
    "#Q17 How do you distinguish between copy.copy() and copy.deepcopy()?\n",
    "Ans: The copy.copy() function will do a shallow copy of a list, while the copy.deepcopy() function will do a deep copy of\n",
    "    a list. That is, only copy.deepcopy() will duplicate any lists inside the list."
   ]
  }
 ],
 "metadata": {
  "kernelspec": {
   "display_name": "Python 3 (ipykernel)",
   "language": "python",
   "name": "python3"
  },
  "language_info": {
   "codemirror_mode": {
    "name": "ipython",
    "version": 3
   },
   "file_extension": ".py",
   "mimetype": "text/x-python",
   "name": "python",
   "nbconvert_exporter": "python",
   "pygments_lexer": "ipython3",
   "version": "3.9.7"
  }
 },
 "nbformat": 4,
 "nbformat_minor": 5
}
